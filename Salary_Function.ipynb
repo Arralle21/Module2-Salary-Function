{
  "nbformat": 4,
  "nbformat_minor": 0,
  "metadata": {
    "colab": {
      "provenance": []
    },
    "kernelspec": {
      "name": "python3",
      "display_name": "Python 3"
    },
    "language_info": {
      "name": "python"
    }
  },
  "cells": [
    {
      "cell_type": "code",
      "execution_count": 13,
      "metadata": {
        "id": "cYq_AA3FdKIU"
      },
      "outputs": [],
      "source": [
        "# Task 1: Import Data\n",
        "import pandas as pd\n",
        "import os\n",
        "import zipfile\n",
        "import csv\n",
        "\n",
        "data = pd.read_csv('Total.csv', low_memory=False)"
      ]
    },
    {
      "cell_type": "code",
      "source": [
        "# Task 2: Create Employee Function with Task 3: Data Processing with Dictionary\n",
        "def get_employee_details(name):\n",
        "    employee_dict = {}\n",
        "    for _, row in data.iterrows():\n",
        "        employee_dict[row['EmployeeName']] = row.to_dict()\n",
        "# Task 4: Error Handling\n",
        "    try:\n",
        "        if name not in employee_dict:\n",
        "            raise ValueError(f\"Employee '{name}' not found in the database.\")\n",
        "\n",
        "        return employee_dict[name]\n",
        "    except ValueError as e:\n",
        "        print(f\"Error: {e}\")\n",
        "        return None\n",
        "    except Exception as e:\n",
        "        print(f\"An unexpected error occurred: {e}\")\n",
        "        return None\n",
        " # Task 4: Error Handling\n",
        "    try:\n",
        "        if name not in employee_dict:\n",
        "            raise ValueError(f\"Employee '{name}' not found in the database.\")\n",
        "\n",
        "        return employee_dict[name]\n",
        "    except ValueError as e:\n",
        "        print(f\"Error: {e}\")\n",
        "        return None\n",
        "    except Exception as e:\n",
        "        print(f\"An unexpected error occurred: {e}\")\n",
        "        return None\n",
        ""
      ],
      "metadata": {
        "id": "ZkLmaE9gel0C"
      },
      "execution_count": 11,
      "outputs": []
    },
    {
      "cell_type": "code",
      "source": [
        "# Task 5: Export Employee Details\n",
        "def export_employee_profile(name):\n",
        "    employee_data = get_employee_details(name)\n",
        "\n",
        "    if employee_data:\n",
        "        os.makedirs(\"Employee Profile\", exist_ok=True)\n",
        "\n",
        "        # Export to CSV\n",
        "        csv_path = os.path.join(\"Employee Profile\", f\"{name.replace(' ', '_')}_profile.csv\")\n",
        "        with open(csv_path, 'w', newline='') as csv_file:\n",
        "            writer = csv.writer(csv_file)\n",
        "            writer.writerow(['Field', 'Value'])\n",
        "            for key, value in employee_data.items():\n",
        "                writer.writerow([key, value])\n",
        "\n",
        "        # Create ZIP file\n",
        "        zip_path = os.path.join(\"Employee Profile.zip\")\n",
        "        with zipfile.ZipFile(zip_path, 'w') as zip_file:\n",
        "            zip_file.write(csv_path, os.path.basename(csv_path))\n",
        "\n",
        "        print(f\"Employee profile for {name} has been exported to {zip_path}\")\n",
        "        return True\n",
        "    else:\n",
        "        return False\n",
        "\n",
        "# Example\n",
        "employee_name = \"NATHANIEL FORD\"\n",
        "details = get_employee_details(employee_name)\n",
        "print(f\"Details for {employee_name}:\")\n",
        "for key, value in details.items():\n",
        "    print(f\"{key}: {value}\")\n",
        "\n",
        "# Export the employee profile\n",
        "export_employee_profile(employee_name)"
      ],
      "metadata": {
        "colab": {
          "base_uri": "https://localhost:8080/"
        },
        "id": "8TgKFqFmypAe",
        "outputId": "baf3f636-61fa-44cb-923b-615af2b263ef"
      },
      "execution_count": 12,
      "outputs": [
        {
          "output_type": "stream",
          "name": "stdout",
          "text": [
            "Details for NATHANIEL FORD:\n",
            "EmployeeName: NATHANIEL FORD\n",
            "JobTitle: GENERAL MANAGER-METROPOLITAN TRANSIT AUTHORITY\n",
            "BasePay: 167411.18\n",
            "OvertimePay: 0\n",
            "OtherPay: 400184.25\n",
            "Benefits: Not Provided\n",
            "TotalPay: 567595.43\n",
            "TotalPayBenefits: 567595.43\n",
            "Year: 2011\n",
            "Employee profile for NATHANIEL FORD has been exported to Employee Profile.zip\n"
          ]
        },
        {
          "output_type": "execute_result",
          "data": {
            "text/plain": [
              "True"
            ]
          },
          "metadata": {},
          "execution_count": 12
        }
      ]
    },
    {
      "cell_type": "code",
      "source": [],
      "metadata": {
        "id": "AmUIVI47ytbq"
      },
      "execution_count": null,
      "outputs": []
    }
  ]
}